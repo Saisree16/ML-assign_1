{
 "cells": [
  {
   "cell_type": "code",
   "execution_count": 1,
   "id": "a83c4b40",
   "metadata": {},
   "outputs": [
    {
     "name": "stdout",
     "output_type": "stream",
     "text": [
      "[19, 22, 19, 24, 20, 25, 26, 24, 25, 24]\n"
     ]
    }
   ],
   "source": [
    "# Question 01\n",
    "ages = [19, 22, 19, 24, 20, 25, 26, 24, 25, 24]\n",
    "print(ages)"
   ]
  },
  {
   "cell_type": "code",
   "execution_count": 3,
   "id": "ff7eaaac",
   "metadata": {},
   "outputs": [
    {
     "name": "stdout",
     "output_type": "stream",
     "text": [
      "[19, 19, 20, 22, 24, 24, 24, 25, 25, 26]\n",
      "19\n",
      "26\n"
     ]
    }
   ],
   "source": [
    "# Sort the list and find the min and max age\n",
    "\n",
    "#To Sort the list \n",
    "ages.sort()\n",
    "print(ages)\n",
    "\n",
    "#To find min age\n",
    "min_age = ages[0]\n",
    "print(min_age)\n",
    "\n",
    "#To find maxx age\n",
    "max_age = ages[-1]\n",
    "print(max_age)"
   ]
  },
  {
   "cell_type": "code",
   "execution_count": 6,
   "id": "d61cf76d",
   "metadata": {},
   "outputs": [
    {
     "name": "stdout",
     "output_type": "stream",
     "text": [
      "[19, 19, 20, 22, 24, 24, 24, 25, 25, 26, 19, 26, 19, 26, 19, 26]\n"
     ]
    }
   ],
   "source": [
    "# Add the min age and the max age again to the list\n",
    "\n",
    "#Add min age\n",
    "ages.append(min_age)\n",
    "\n",
    "#Add max age\n",
    "ages.append(max_age)\n",
    "\n",
    "print(ages)"
   ]
  },
  {
   "cell_type": "code",
   "execution_count": 8,
   "id": "f3a1ae2f",
   "metadata": {},
   "outputs": [
    {
     "name": "stdout",
     "output_type": "stream",
     "text": [
      "25.0\n"
     ]
    }
   ],
   "source": [
    "# Find the median age \n",
    "\n",
    "if len(ages) % 2 == 0:\n",
    "    median_age = (ages[int(len(ages) / 2)] + ages[int(len(ages) / 2) - 1]) / 2\n",
    "else:\n",
    "    median_age = ages[int(len(ages) / 2)]\n",
    "    \n",
    "print(median_age)"
   ]
  },
  {
   "cell_type": "code",
   "execution_count": 9,
   "id": "40ee84be",
   "metadata": {},
   "outputs": [
    {
     "name": "stdout",
     "output_type": "stream",
     "text": [
      "22.6875\n"
     ]
    }
   ],
   "source": [
    "# Find the average age \n",
    "\n",
    "average_age = sum(ages) / len(ages)\n",
    "\n",
    "print(average_age)"
   ]
  },
  {
   "cell_type": "code",
   "execution_count": 10,
   "id": "b42cc982",
   "metadata": {},
   "outputs": [
    {
     "name": "stdout",
     "output_type": "stream",
     "text": [
      "7\n"
     ]
    }
   ],
   "source": [
    "# Find the range of the ages\n",
    "\n",
    "range_age = max_age - min_age\n",
    "\n",
    "print(range_age)"
   ]
  },
  {
   "cell_type": "code",
   "execution_count": null,
   "id": "77db4581",
   "metadata": {},
   "outputs": [],
   "source": []
  },
  {
   "cell_type": "code",
   "execution_count": 13,
   "id": "ab0baee3",
   "metadata": {},
   "outputs": [],
   "source": [
    "# Question 02\n",
    "\n",
    "# Create an empty dictionary called dog\n",
    "\n",
    "dog = {}"
   ]
  },
  {
   "cell_type": "code",
   "execution_count": 35,
   "id": "c03d2e9c",
   "metadata": {},
   "outputs": [
    {
     "name": "stdout",
     "output_type": "stream",
     "text": [
      "{'name': 'Niko', 'color': 'white', 'breed': 'Golden Retriever', 'legs': 4, 'age': 3}\n"
     ]
    }
   ],
   "source": [
    "# Add name, color, breed, legs, age to the dog dictionary\n",
    "\n",
    "dog = {'name':'Niko', 'color':'white', 'breed':'Golden Retriever', 'legs':4, 'age':3}\n",
    "\n",
    "print(dog)"
   ]
  },
  {
   "cell_type": "code",
   "execution_count": 40,
   "id": "86d5a03a",
   "metadata": {},
   "outputs": [
    {
     "name": "stdout",
     "output_type": "stream",
     "text": [
      "{'first_name': 'Susan', 'last_name': 'Connor', 'gender': 'female', 'age': 22, 'marital status': 'single', 'skills': ['baking', 'dancing'], 'country': 'USA', 'city': 'Chicago'}\n"
     ]
    }
   ],
   "source": [
    "# Create a student dictionary and add first_name, last_name, gender, age, marital status, skills, country, city and address as keys for the dictionary\n",
    "\n",
    "student  = {\n",
    "    'first_name': 'Susan',\n",
    "    'last_name': 'Connor',\n",
    "    'gender': 'female',\n",
    "    'age': 22,\n",
    "    'marital status': 'single',\n",
    "    'skills': ['baking', 'dancing'], \n",
    "    'country': 'USA', \n",
    "    'city': 'Chicago' \n",
    "}\n",
    "\n",
    "print(student)"
   ]
  },
  {
   "cell_type": "code",
   "execution_count": 29,
   "id": "d47bd193",
   "metadata": {},
   "outputs": [
    {
     "name": "stdout",
     "output_type": "stream",
     "text": [
      "8\n"
     ]
    }
   ],
   "source": [
    "# Get the length of the student dictionary\n",
    "\n",
    "student_length = len(student)\n",
    "\n",
    "print(student_length)"
   ]
  },
  {
   "cell_type": "code",
   "execution_count": 42,
   "id": "bcec68ba",
   "metadata": {},
   "outputs": [
    {
     "name": "stdout",
     "output_type": "stream",
     "text": [
      "['baking', 'dancing']\n",
      "<class 'list'>\n"
     ]
    }
   ],
   "source": [
    "# Get the value of skills and check the data type, it should be a list\n",
    "\n",
    "skills = student['skills']\n",
    "is_skills_list = type(skills) == list \n",
    "\n",
    "print(skills)\n",
    "print(type(skills))"
   ]
  },
  {
   "cell_type": "code",
   "execution_count": 43,
   "id": "5b941230",
   "metadata": {},
   "outputs": [
    {
     "name": "stdout",
     "output_type": "stream",
     "text": [
      "['baking', 'dancing', 'skating', 'singing']\n"
     ]
    }
   ],
   "source": [
    "# Modify the skills values by adding one or two skills\n",
    "\n",
    "skills.append('skating')\n",
    "skills.append('singing')\n",
    "\n",
    "print(skills)"
   ]
  },
  {
   "cell_type": "code",
   "execution_count": 44,
   "id": "ed2e388b",
   "metadata": {},
   "outputs": [
    {
     "name": "stdout",
     "output_type": "stream",
     "text": [
      "['first_name', 'last_name', 'gender', 'age', 'marital status', 'skills', 'country', 'city']\n"
     ]
    }
   ],
   "source": [
    "# Get the dictionary keys as a list\n",
    "\n",
    "student_keys = list(student.keys())\n",
    "\n",
    "print(student_keys)"
   ]
  },
  {
   "cell_type": "code",
   "execution_count": 45,
   "id": "e2658cc8",
   "metadata": {},
   "outputs": [
    {
     "name": "stdout",
     "output_type": "stream",
     "text": [
      "['Susan', 'Connor', 'female', 22, 'single', ['baking', 'dancing', 'skating', 'singing'], 'USA', 'Chicago']\n"
     ]
    }
   ],
   "source": [
    "# Get the dictionary values as a list\n",
    "\n",
    "student_values = list(student.values())\n",
    "\n",
    "print(student_values)"
   ]
  },
  {
   "cell_type": "code",
   "execution_count": null,
   "id": "4c6550c5",
   "metadata": {},
   "outputs": [],
   "source": []
  },
  {
   "cell_type": "code",
   "execution_count": 47,
   "id": "5cc9b5dc",
   "metadata": {},
   "outputs": [
    {
     "name": "stdout",
     "output_type": "stream",
     "text": [
      "('Sam', 'John', 'Jessica')\n"
     ]
    }
   ],
   "source": [
    "# Question 03\n",
    "\n",
    "# Create a tuple containing names of your sisters and your brothers \n",
    "\n",
    "sisters_and_brothers = ('Sam', 'John', 'Jessica')\n",
    "\n",
    "print(sisters_and_brothers)"
   ]
  },
  {
   "cell_type": "code",
   "execution_count": 48,
   "id": "2a324513",
   "metadata": {},
   "outputs": [
    {
     "name": "stdout",
     "output_type": "stream",
     "text": [
      "('Sam', 'John', 'Jessica', 'Sam', 'John', 'Jessica')\n"
     ]
    }
   ],
   "source": [
    "# Join brothers and sisters tuples and assign it to siblings\n",
    "\n",
    "siblings = sisters_and_brothers + sisters_and_brothers\n",
    "\n",
    "print(siblings)"
   ]
  },
  {
   "cell_type": "code",
   "execution_count": 49,
   "id": "2367f472",
   "metadata": {},
   "outputs": [
    {
     "name": "stdout",
     "output_type": "stream",
     "text": [
      "6\n"
     ]
    }
   ],
   "source": [
    "# How many siblings do you have?\n",
    "\n",
    "siblings_length = len(siblings)\n",
    "\n",
    "print(siblings_length)"
   ]
  },
  {
   "cell_type": "code",
   "execution_count": 51,
   "id": "e2f81a18",
   "metadata": {},
   "outputs": [
    {
     "name": "stdout",
     "output_type": "stream",
     "text": [
      "('Sam', 'John', 'Jessica', 'Sam', 'John', 'Jessica', 'Craig', 'Trisha')\n"
     ]
    }
   ],
   "source": [
    "# Modify the siblings tuple and add the name of your father and mother and assign it to family_members\n",
    "\n",
    "family_members = siblings + ('Craig', 'Trisha')\n",
    "\n",
    "print(family_members)"
   ]
  },
  {
   "cell_type": "code",
   "execution_count": null,
   "id": "ac717599",
   "metadata": {},
   "outputs": [],
   "source": []
  },
  {
   "cell_type": "code",
   "execution_count": 52,
   "id": "59676606",
   "metadata": {},
   "outputs": [
    {
     "name": "stdout",
     "output_type": "stream",
     "text": [
      "{'IBM', 'Google', 'Apple', 'Oracle', 'Facebook', 'Microsoft', 'Amazon'}\n",
      "{19, 20, 22, 24, 25, 26}\n",
      "{19, 20, 22, 24, 25, 26, 27, 28}\n",
      "[22, 19, 24, 25, 26, 24, 25, 24]\n"
     ]
    }
   ],
   "source": [
    "# Question 04\n",
    "\n",
    "it_companies = {'Facebook', 'Google', 'Microsoft', 'Apple', 'IBM', 'Oracle', 'Amazon'} \n",
    "A = {19, 22, 24, 20, 25, 26}\n",
    "B = {19, 22, 20, 25, 26, 24, 28, 27}\n",
    "age = [22, 19, 24, 25, 26, 24, 25, 24]\n",
    "\n",
    "print(it_companies)\n",
    "print(A)\n",
    "print(B)\n",
    "print(age)"
   ]
  },
  {
   "cell_type": "code",
   "execution_count": 53,
   "id": "c38dbb15",
   "metadata": {},
   "outputs": [
    {
     "name": "stdout",
     "output_type": "stream",
     "text": [
      "7\n"
     ]
    }
   ],
   "source": [
    "# Find the length of the set it_companies\n",
    "\n",
    "it_companies_length = len(it_companies)\n",
    "\n",
    "print(it_companies_length)"
   ]
  },
  {
   "cell_type": "code",
   "execution_count": 54,
   "id": "4ffc0705",
   "metadata": {},
   "outputs": [
    {
     "name": "stdout",
     "output_type": "stream",
     "text": [
      "{'IBM', 'Google', 'Apple', 'Oracle', 'Facebook', 'Twitter', 'Microsoft', 'Amazon'}\n"
     ]
    }
   ],
   "source": [
    "# Add 'Twitter' to it_companies\n",
    "\n",
    "it_companies.add('Twitter')\n",
    "\n",
    "print(it_companies)"
   ]
  },
  {
   "cell_type": "code",
   "execution_count": 55,
   "id": "28c4219f",
   "metadata": {},
   "outputs": [
    {
     "name": "stdout",
     "output_type": "stream",
     "text": [
      "{'IBM', 'Google', 'Apple', 'Oracle', 'Facebook', 'Twitter', 'Microsoft', 'Amazon'}\n"
     ]
    }
   ],
   "source": [
    "# Insert multiple IT companies at once to the set it_companies\n",
    "\n",
    "it_companies.update(['Facebook', 'Google', 'Microsoft', 'Apple', 'IBM', 'Oracle', 'Amazon'])\n",
    "\n",
    "print(it_companies)"
   ]
  },
  {
   "cell_type": "code",
   "execution_count": 56,
   "id": "8b328151",
   "metadata": {},
   "outputs": [
    {
     "name": "stdout",
     "output_type": "stream",
     "text": [
      "{'IBM', 'Google', 'Apple', 'Facebook', 'Twitter', 'Microsoft', 'Amazon'}\n"
     ]
    }
   ],
   "source": [
    "# Remove one of the companies from the set it_companies\n",
    "\n",
    "it_companies.remove('Oracle')\n",
    "\n",
    "print(it_companies)"
   ]
  },
  {
   "cell_type": "code",
   "execution_count": null,
   "id": "cf635cb3",
   "metadata": {},
   "outputs": [],
   "source": [
    "# What is the difference between remove and discard\n",
    "\n",
    "## `remove`` removes the first instance of the item and `discard` removes the item regardless of its position in the set"
   ]
  },
  {
   "cell_type": "code",
   "execution_count": 57,
   "id": "a4eb4e2c",
   "metadata": {},
   "outputs": [
    {
     "name": "stdout",
     "output_type": "stream",
     "text": [
      "{19, 20, 22, 24, 25, 26, 27, 28}\n"
     ]
    }
   ],
   "source": [
    "# Join A and B\n",
    "\n",
    "joined_set = A.union(B)\n",
    "\n",
    "print(joined_set)"
   ]
  },
  {
   "cell_type": "code",
   "execution_count": 58,
   "id": "3a454ac4",
   "metadata": {},
   "outputs": [
    {
     "name": "stdout",
     "output_type": "stream",
     "text": [
      "{19, 20, 22, 24, 25, 26}\n"
     ]
    }
   ],
   "source": [
    "# Find A intersection B\n",
    "\n",
    "intersection_set = A.intersection(B)\n",
    "\n",
    "print(intersection_set)"
   ]
  },
  {
   "cell_type": "code",
   "execution_count": 59,
   "id": "9faafd1b",
   "metadata": {},
   "outputs": [
    {
     "name": "stdout",
     "output_type": "stream",
     "text": [
      "True\n"
     ]
    }
   ],
   "source": [
    "# Is A subset of B\n",
    "\n",
    "is_subset = A.issubset(B)\n",
    "\n",
    "print(is_subset)"
   ]
  },
  {
   "cell_type": "code",
   "execution_count": 60,
   "id": "874f9861",
   "metadata": {},
   "outputs": [
    {
     "name": "stdout",
     "output_type": "stream",
     "text": [
      "False\n"
     ]
    }
   ],
   "source": [
    "# Are A and B disjoint sets\n",
    "\n",
    "is_disjoint = A.isdisjoint(B)\n",
    "\n",
    "print(is_disjoint)"
   ]
  },
  {
   "cell_type": "code",
   "execution_count": 61,
   "id": "7d638191",
   "metadata": {},
   "outputs": [
    {
     "name": "stdout",
     "output_type": "stream",
     "text": [
      "{19, 20, 22, 24, 25, 26, 27, 28}\n",
      "{19, 20, 22, 24, 25, 26, 27, 28}\n"
     ]
    }
   ],
   "source": [
    "# Join A with B and B with A\n",
    "\n",
    "joined_set_AB = A.union(B)\n",
    "joined_set_BA = B.union(A)\n",
    "\n",
    "print(joined_set_AB)\n",
    "print(joined_set_BA)"
   ]
  },
  {
   "cell_type": "code",
   "execution_count": 62,
   "id": "fb4d79c9",
   "metadata": {},
   "outputs": [
    {
     "name": "stdout",
     "output_type": "stream",
     "text": [
      "{27, 28}\n"
     ]
    }
   ],
   "source": [
    "# What is the symmetric difference between A and B\n",
    "\n",
    "symmetric_difference = A.symmetric_difference(B)\n",
    "\n",
    "print(symmetric_difference)"
   ]
  },
  {
   "cell_type": "code",
   "execution_count": null,
   "id": "691a44c0",
   "metadata": {},
   "outputs": [],
   "source": [
    "# Delete the sets completely\n",
    "\n",
    "del A\n",
    "del B"
   ]
  },
  {
   "cell_type": "code",
   "execution_count": 66,
   "id": "e1cb7db7",
   "metadata": {},
   "outputs": [
    {
     "name": "stdout",
     "output_type": "stream",
     "text": [
      "3\n"
     ]
    }
   ],
   "source": [
    "# Convert the ages to a set and compare the length of the list and the set.\n",
    "\n",
    "ages_set = set(age)\n",
    "ages_length = len(age)\n",
    "ages_set_length = len(ages_set)\n",
    "\n",
    "comparision = ages_length - ages_set_length\n",
    "\n",
    "print(comparision)"
   ]
  },
  {
   "cell_type": "code",
   "execution_count": null,
   "id": "f9113e7a",
   "metadata": {},
   "outputs": [],
   "source": []
  },
  {
   "cell_type": "code",
   "execution_count": 68,
   "id": "20d7f997",
   "metadata": {},
   "outputs": [
    {
     "name": "stdout",
     "output_type": "stream",
     "text": [
      "2826.0\n"
     ]
    }
   ],
   "source": [
    "# Question 05\n",
    "\n",
    "# The radius of a circle is 30 meters.\n",
    "\n",
    "radius = 30\n",
    "\n",
    "# Calculate the area of a circle and assign the value to a variable name of area_of_circle\n",
    "\n",
    "area_of_circle = 3.14 * radius ** 2\n",
    "\n",
    "print(area_of_circle)"
   ]
  },
  {
   "cell_type": "code",
   "execution_count": 69,
   "id": "4d18e716",
   "metadata": {},
   "outputs": [
    {
     "name": "stdout",
     "output_type": "stream",
     "text": [
      "188.4\n"
     ]
    }
   ],
   "source": [
    "# Calculate the circumference of a circle and assign the value to a variable name of circum_of_circle\n",
    "\n",
    "circum_of_circle = 2 * 3.14 * radius\n",
    "\n",
    "print(circum_of_circle)"
   ]
  },
  {
   "cell_type": "code",
   "execution_count": 71,
   "id": "bc8c8711",
   "metadata": {},
   "outputs": [
    {
     "name": "stdout",
     "output_type": "stream",
     "text": [
      "Enter the radius of the circle: 46\n",
      "The area of the circle is: 6644.240000000001\n"
     ]
    }
   ],
   "source": [
    "# Take radius as user input and calculate the area.\n",
    "\n",
    "radius = int(input('Enter the radius of the circle: '))\n",
    "area_of_circle = 3.14 * radius ** 2\n",
    "\n",
    "print('The area of the circle is: ' + str(area_of_circle))\n"
   ]
  },
  {
   "cell_type": "code",
   "execution_count": null,
   "id": "14c52379",
   "metadata": {},
   "outputs": [],
   "source": []
  },
  {
   "cell_type": "code",
   "execution_count": 72,
   "id": "4c1d0f97",
   "metadata": {},
   "outputs": [
    {
     "name": "stdout",
     "output_type": "stream",
     "text": [
      "10\n"
     ]
    }
   ],
   "source": [
    "# Question 06\n",
    "\n",
    "# “I am a teacher and I love to inspire and teach people”\n",
    "\n",
    "# How many unique words have been used in the sentence? Use the split methods and set to get the unique words.\n",
    "\n",
    "sentence = 'I am a teacher and I love to inspire and teach people'\n",
    "words = sentence.split()\n",
    "unique_words = set(words)\n",
    "unique_words_length = len(unique_words)\n",
    "\n",
    "print(unique_words_length)"
   ]
  },
  {
   "cell_type": "code",
   "execution_count": null,
   "id": "d09987e6",
   "metadata": {},
   "outputs": [],
   "source": []
  },
  {
   "cell_type": "code",
   "execution_count": 73,
   "id": "4b817522",
   "metadata": {},
   "outputs": [
    {
     "name": "stdout",
     "output_type": "stream",
     "text": [
      "John\t24\tUSA\tKansas City\n"
     ]
    }
   ],
   "source": [
    "# Question 07\n",
    "\n",
    "# Use a tab escape sequence to get the following lines, \n",
    "\n",
    "# Name Age Country City\n",
    "name = 'John'\n",
    "age = 24\n",
    "country = 'USA'\n",
    "city = 'Kansas City'\n",
    "\n",
    "print(name + '\\t' + str(age) + '\\t' + country + '\\t' + city)"
   ]
  },
  {
   "cell_type": "code",
   "execution_count": 74,
   "id": "31b24145",
   "metadata": {},
   "outputs": [
    {
     "name": "stdout",
     "output_type": "stream",
     "text": [
      "Asabeneh\t250\tFinland\tHelsinki\n"
     ]
    }
   ],
   "source": [
    "# Asabeneh 250 Finland Helsinki\n",
    "\n",
    "name = 'Asabeneh'\n",
    "age = 250\n",
    "country = 'Finland'\n",
    "city = 'Helsinki'\n",
    "\n",
    "print(name + '\\t' + str(age) + '\\t' + country + '\\t' + city)"
   ]
  },
  {
   "cell_type": "code",
   "execution_count": null,
   "id": "94d3b399",
   "metadata": {},
   "outputs": [],
   "source": []
  },
  {
   "cell_type": "code",
   "execution_count": 79,
   "id": "f1362a14",
   "metadata": {},
   "outputs": [
    {
     "name": "stdout",
     "output_type": "stream",
     "text": [
      "The area of a circle with radius 10 is 314.0 meters square.\n"
     ]
    }
   ],
   "source": [
    "# Question 08\n",
    "\n",
    "radius = 10\n",
    "area = 3.14 * radius ** 2\n",
    "\n",
    "# Use the string formatting method to display the following: “The area of a circle with radius {radius} is {area} meters square.”\n",
    "\n",
    "print(f'The area of a circle with radius {radius} is {area} meters square.')"
   ]
  },
  {
   "cell_type": "code",
   "execution_count": null,
   "id": "e932b1a0",
   "metadata": {},
   "outputs": [],
   "source": []
  },
  {
   "cell_type": "code",
   "execution_count": 1,
   "id": "39a41cdb",
   "metadata": {},
   "outputs": [
    {
     "name": "stdout",
     "output_type": "stream",
     "text": [
      "Enter the number of students: 4\n",
      "4\n"
     ]
    }
   ],
   "source": [
    "# Question 09\n",
    "\n",
    "# Read input from user for number of students\n",
    "\n",
    "N = int(input('Enter the number of students: '))\n",
    "\n",
    "print(N)"
   ]
  },
  {
   "cell_type": "code",
   "execution_count": 2,
   "id": "d4f8edba",
   "metadata": {},
   "outputs": [
    {
     "name": "stdout",
     "output_type": "stream",
     "text": [
      "Enter the weight of student 1: 150\n",
      "Enter the weight of student 2: 155\n",
      "Enter the weight of student 3: 145\n",
      "Enter the weight of student 4: 148\n",
      "[150, 155, 145, 148]\n"
     ]
    }
   ],
   "source": [
    "# Input weights (lbs.) of N students into a list\n",
    "\n",
    "weights = []\n",
    "for i in range(N):\n",
    "    weights.append(int(input('Enter the weight of student ' + str(i + 1) + ': ')))\n",
    "    \n",
    "print(weights)"
   ]
  },
  {
   "cell_type": "code",
   "execution_count": 3,
   "id": "d583b333",
   "metadata": {},
   "outputs": [
    {
     "name": "stdout",
     "output_type": "stream",
     "text": [
      "[68.0388, 70.30676, 65.77083999999999, 67.131616]\n"
     ]
    }
   ],
   "source": [
    "# convert these weights to kilograms in a separate list using Loop\n",
    "\n",
    "kilograms = []\n",
    "for weight in weights:\n",
    "    kilograms.append(weight * 0.453592)\n",
    "    \n",
    "print(kilograms)"
   ]
  },
  {
   "cell_type": "code",
   "execution_count": null,
   "id": "1c94ac5b",
   "metadata": {},
   "outputs": [],
   "source": []
  },
  {
   "cell_type": "code",
   "execution_count": null,
   "id": "d6e2a69e",
   "metadata": {},
   "outputs": [],
   "source": [
    "#Question 10 \n",
    "\n",
    "#importing important python Libraries \n",
    "import numpy as np \n",
    "import matplotlib.pyplot as plt \n",
    "import pandas as pd \n",
    "\n",
    "#reading the dataset\n",
    "dataframe=pd.read_csv(\"dataset.csv\")\n",
    "x= dataframe['Feature'].values\n",
    "y= dataframe['Class'].values \n",
    "#dividing data equally into training and testing data \n",
    "from sklearn.model_selection import train_test_split \n",
    "features_tr, features_te, label_tr, label_te= train_test_split(x, y, random_state=0, train_size= 0.5 ) \n",
    "#reshaping the data feature and Labes into 2D array \n",
    "features_tr = np.array(features_tr).reshape(-1,1) \n",
    "features_te = np.array(features_te).reshape(-1,1) \n",
    "#Normalizing data \n",
    "from sklearn.preprocessing import StandardScaler \n",
    "normalization= StandardScaler() \n",
    "features_tr= normalization. fit_transform(features_tr) \n",
    "features_tes normalization. transform( features_te) \n",
    "#fiting the training data into classifier model \n",
    "from sklearn.neighbors import KNeighborsClassifier \n",
    "model= KNeighborsClassifier(n_neighbors=3 ) \n",
    "model .fit(features_tr, label_tr) \n",
    "#Predicting the test set result \n",
    "predict_class=model. predict(features_te) \n",
    "print(“Predicted Test Samples Output:”,predict_class)\n",
    "from sklearn.preprocessing import StandardScaler \n",
    "normalization= StandardScaler() \n",
    "features_tr=normalization.fit_transform(features_tr) \n",
    "features_te=normalization.transform(features_te) \n",
    "#fiting the training data into classifier model \n",
    "from sklearn.neighbors import KNeighborsClassifier \n",
    "model= KNeighborsClassifier(n_neighbors=3)\n",
    "model.fit(features_tr, label_tr) \n",
    "#Predicting the test set result \n",
    "predict_class= model.predict(features_te) \n",
    "print(\"Predicted Test Samples Output:\",predict_class) \n",
    "\n",
    "#creating a confusion matrix \n",
    "from sklearn.metrics import confusion_matrix \n",
    "model _evaluation= confusion_matrix(label_te, predict_class) \n",
    "print(\"Confusion matrix:\\n\",model_evaluation) \n",
    "#finding model accuracy \n",
    "count=sum(sum(model_evaluation)) \n",
    "accuracy=(model_evalustion[0,0]+model_evaluation[1,1])/count \n",
    "print ('Accuracy =: ', accuracy) \n",
    "# finding model sensitivity \n",
    "sense = model_evaluation[0,0]/(model_evaluation[0,0]+model_evaluation[0,1)) \n",
    "print('Sensitivity =: ', sense ) \n",
    "#finding model specificity \n",
    "speci = model_evaluation[1,1]/(model_evaluation[1,0]+model_evaluation[1,1]) \n",
    "print('Specificity =: ', speci)"
   ]
  },
  {
   "cell_type": "code",
   "execution_count": null,
   "id": "238cca2b",
   "metadata": {},
   "outputs": [],
   "source": []
  }
 ],
 "metadata": {
  "kernelspec": {
   "display_name": "Python 3 (ipykernel)",
   "language": "python",
   "name": "python3"
  },
  "language_info": {
   "codemirror_mode": {
    "name": "ipython",
    "version": 3
   },
   "file_extension": ".py",
   "mimetype": "text/x-python",
   "name": "python",
   "nbconvert_exporter": "python",
   "pygments_lexer": "ipython3",
   "version": "3.9.12"
  }
 },
 "nbformat": 4,
 "nbformat_minor": 5
}
